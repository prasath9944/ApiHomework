{
  "nbformat": 4,
  "nbformat_minor": 0,
  "metadata": {
    "colab": {
      "provenance": [],
      "authorship_tag": "ABX9TyMykD0/RZ27BSFOpL7gw+ZU",
      "include_colab_link": true
    },
    "kernelspec": {
      "name": "python3",
      "display_name": "Python 3"
    },
    "language_info": {
      "name": "python"
    }
  },
  "cells": [
    {
      "cell_type": "markdown",
      "metadata": {
        "id": "view-in-github",
        "colab_type": "text"
      },
      "source": [
        "<a href=\"https://colab.research.google.com/github/prasath9944/ApiHomework/blob/master/Ternary_Search%2C_Comparison_Sort_Selection_and_Bubble_Sort.ipynb\" target=\"_parent\"><img src=\"https://colab.research.google.com/assets/colab-badge.svg\" alt=\"Open In Colab\"/></a>"
      ]
    },
    {
      "cell_type": "markdown",
      "source": [
        "<h1>Ternary Search Implementation</h1>"
      ],
      "metadata": {
        "id": "dN9Eux73eV0a"
      }
    },
    {
      "cell_type": "code",
      "execution_count": 4,
      "metadata": {
        "colab": {
          "base_uri": "https://localhost:8080/"
        },
        "id": "f9D3bUbj1AnZ",
        "outputId": "15e1b78b-25d9-44a8-a403-353b87470eba"
      },
      "outputs": [
        {
          "output_type": "stream",
          "name": "stdout",
          "text": [
            "The Index of 79 is 7\n"
          ]
        }
      ],
      "source": [
        "def ternarySearch(arr,i,j,key)->int:\n",
        "  mid1=i+(j-i)//3\n",
        "  mid2=j-(j-i)//3\n",
        "  while(i<=j):\n",
        "    if arr[mid1]==key:\n",
        "      return mid1\n",
        "    if arr[mid2]==key:\n",
        "      return mid2\n",
        "    if arr[mid1]>key:\n",
        "      return ternarySearch(arr,i,mid1-1,key)\n",
        "    elif arr[mid2]<key:\n",
        "      return ternarySearch(arr,mid2+1,j,key)\n",
        "    else:\n",
        "      return ternarySearch(arr,mid1+1,mid2-1,key)\n",
        "  return -1\n",
        "\n",
        "\n",
        "\n",
        "arr=[20,25,47,56,59,63,65,79,82]\n",
        "i=0\n",
        "j=len(arr)-1\n",
        "key=79\n",
        "searchindex=ternarySearch(arr,i,j,key)\n",
        "print(f\"The Index of {key} is {searchindex}\")"
      ]
    },
    {
      "cell_type": "markdown",
      "source": [
        "<h1>Bubble Sort Implementation</h1>"
      ],
      "metadata": {
        "id": "hyvnhC8VeLsU"
      }
    },
    {
      "cell_type": "code",
      "source": [
        "# Time Complexity is O(n^2)\n",
        "\n",
        "# Method Implementation\n",
        "def bubbleSort(arr):\n",
        "  n=len(arr)\n",
        "  for i in range(n):\n",
        "    for j in range(n-i-1):\n",
        "      if(arr[j]>arr[j+1]):\n",
        "        # swap of the elements\n",
        "        arr[j],arr[j+1]=arr[j+1],arr[j]\n",
        "  return arr\n",
        "\n",
        "\n",
        "\n",
        "## Driver Code\n",
        "arr=[70,20,50,60,35,47]\n",
        "result=bubbleSort(arr)\n",
        "print(\"Arraay after using bubble sort is:\",result)"
      ],
      "metadata": {
        "colab": {
          "base_uri": "https://localhost:8080/"
        },
        "id": "_7lYh7Pm2Otg",
        "outputId": "f7b7147f-0070-49c2-ebe7-b2dce16a4a6b"
      },
      "execution_count": 1,
      "outputs": [
        {
          "output_type": "stream",
          "name": "stdout",
          "text": [
            "Arraay after using bubble sort is: [20, 35, 47, 50, 60, 70]\n"
          ]
        }
      ]
    },
    {
      "cell_type": "markdown",
      "source": [
        "<h1> Selection Sort Implementation</h1>"
      ],
      "metadata": {
        "id": "fm3LCERYh8Xg"
      }
    },
    {
      "cell_type": "code",
      "source": [
        "# Time Complexity O(n^2)\n",
        "# Method Defition\n",
        "def selectionSort(arr):\n",
        "  n=len(arr)\n",
        "  for i in range(n):\n",
        "    min_idx=i\n",
        "    for j in range(i+1,n):\n",
        "      if(arr[j]<arr[min_idx]):\n",
        "        min_idx=j\n",
        "    # swap happened after every pass\n",
        "    arr[i],arr[min_idx]=arr[min_idx],arr[i]\n",
        "  return arr\n",
        "\n",
        "\n",
        "\n",
        "\n",
        "# Driver Code\n",
        "arr=[70,56,27,19,1,29,46]\n",
        "result=selectionSort(arr)\n",
        "print(\"Sorted arry after applying selection sort:\",result)"
      ],
      "metadata": {
        "colab": {
          "base_uri": "https://localhost:8080/"
        },
        "id": "u-Et7q-XcvAY",
        "outputId": "4580d9c2-a757-48f3-f6cf-3b9110d37deb"
      },
      "execution_count": 2,
      "outputs": [
        {
          "output_type": "stream",
          "name": "stdout",
          "text": [
            "Sorted arry after applying selection sort: [1, 19, 27, 29, 46, 56, 70]\n"
          ]
        }
      ]
    },
    {
      "cell_type": "code",
      "source": [],
      "metadata": {
        "id": "GCNKwxbVisq8"
      },
      "execution_count": null,
      "outputs": []
    }
  ]
}